{
 "cells": [
  {
   "cell_type": "code",
   "execution_count": null,
   "metadata": {},
   "outputs": [],
   "source": [
    "import matplotlib\n",
    "import matplotlib.pyplot as plt\n",
    "import pandas as pd\n",
    "import os\n",
    "import shutil\n",
    "import subprocess\n",
    "import re"
   ]
  },
  {
   "cell_type": "code",
   "execution_count": null,
   "metadata": {},
   "outputs": [],
   "source": [
    "ts_list = ['PGA', 'SA(0.2)', 'SA(0.5)', 'SA(1.0)', 'SA(2.0)']\n",
    "ts_values = [0.01, 0.20, 0.50, 1.00, 2.00]"
   ]
  },
  {
   "cell_type": "markdown",
   "metadata": {},
   "source": [
    "# Ejecución del modelo y exportación de la salida"
   ]
  },
  {
   "cell_type": "code",
   "execution_count": null,
   "metadata": {},
   "outputs": [],
   "source": [
    "!oq dbserver stop\n",
    "!oq dbserver start"
   ]
  },
  {
   "cell_type": "code",
   "execution_count": null,
   "metadata": {},
   "outputs": [],
   "source": [
    "dir_route = os.getcwd()\n",
    "job_route = dir_route + '/job.ini'\n",
    "!oq engine --run '{job_route}'"
   ]
  },
  {
   "cell_type": "code",
   "execution_count": null,
   "metadata": {},
   "outputs": [],
   "source": [
    "lhc = subprocess.getoutput('oq engine --lhc').split('\\n')\n",
    "last_hc = re.split(r'\\s+', lhc[-1])\n",
    "calculation_id = int(last_hc[1])"
   ]
  },
  {
   "cell_type": "code",
   "execution_count": null,
   "metadata": {},
   "outputs": [],
   "source": [
    "output_route = dir_route + '/output'\n",
    "\n",
    "if os.path.exists(output_route):\n",
    "    shutil.rmtree(output_route)"
   ]
  },
  {
   "cell_type": "code",
   "execution_count": null,
   "metadata": {},
   "outputs": [],
   "source": [
    "!oq engine --export-outputs {calculation_id} '{output_route}'"
   ]
  },
  {
   "cell_type": "code",
   "execution_count": null,
   "metadata": {},
   "outputs": [],
   "source": [
    "hazard_curve_mean_files = os.listdir(output_route)\n",
    "hazard_curve_mean_csvs = []\n",
    "\n",
    "for ts in ts_list:\n",
    "    for csv_file in hazard_curve_mean_files:\n",
    "        if csv_file.startswith('hazard_curve-mean-' + ts):\n",
    "            hazard_curve_mean_csvs.append(csv_file)\n",
    "\n",
    "hazard_curve_mean_csvs"
   ]
  },
  {
   "cell_type": "code",
   "execution_count": null,
   "metadata": {},
   "outputs": [],
   "source": [
    "hazard_uhs_mean_csv = ''\n",
    "\n",
    "for csv_file in hazard_curve_mean_files:\n",
    "    if csv_file.startswith('hazard_uhs-mean'):\n",
    "        hazard_uhs_mean_csv = csv_file\n",
    "\n",
    "hazard_uhs_mean_csv = output_route + '/' + hazard_uhs_mean_csv\n",
    "\n",
    "hazard_uhs_mean_df = pd.read_csv(hazard_uhs_mean_csv, header=1)\n",
    "hazard_uhs_mean_df = hazard_uhs_mean_df.drop(columns=['custom_site_id', 'lon', 'lat'], errors='ignore')"
   ]
  },
  {
   "cell_type": "code",
   "execution_count": null,
   "metadata": {},
   "outputs": [],
   "source": [
    "# Number of coordinates\n",
    "\n",
    "n_coord = len(hazard_uhs_mean_df)\n",
    "\n",
    "# periods\n",
    "\n",
    "periods = []\n",
    "poes = []\n",
    "\n",
    "for column in hazard_uhs_mean_df.columns:\n",
    "    poe, period = column.split('~')\n",
    "\n",
    "    poes.append(float(poe))\n",
    "\n",
    "\n",
    "    if period == 'PGA': period = 0.01\n",
    "    else: period = float(period[period.index('(')+1 : -1])\n",
    "\n",
    "    periods.append(period)\n",
    "\n",
    "periods = sorted(list(set(periods)))\n",
    "n_periods = len(periods)\n",
    "\n",
    "poes = sorted(list(set(poes)), reverse=True)\n",
    "n_poes = len(poes)\n",
    "\n",
    "tr_dict = {0.4 : 'Tr= 100 años', 0.1 : 'Tr= 475 años', 0.05 : 'Tr= 1000 años', 0.02 : 'Tr= 2475 años', 0.01 : 'Tr= 5000 años', 0.005 : 'Tr= 10000 años'}\n",
    "poes_header = ['poe=' + str(poe) + ' - ' + tr_dict[poe] for i, poe in enumerate(poes)]"
   ]
  },
  {
   "cell_type": "markdown",
   "metadata": {},
   "source": [
    "# Generación: Curvas de peligro"
   ]
  },
  {
   "cell_type": "code",
   "execution_count": null,
   "metadata": {},
   "outputs": [],
   "source": [
    "dir_point_routes = [output_route + '/Coordenada ' + str(i+1) for i in range(n_coord)]\n",
    "\n",
    "for i in range(n_coord):\n",
    "    os.mkdir(dir_point_routes[i])"
   ]
  },
  {
   "cell_type": "code",
   "execution_count": null,
   "metadata": {},
   "outputs": [],
   "source": [
    "curves_df = []\n",
    "\n",
    "for coord in range(n_coord):\n",
    "    curve_df = pd.DataFrame()\n",
    "\n",
    "    for i, csv_file in enumerate(hazard_curve_mean_csvs):\n",
    "        curve = pd.read_csv(output_route + '/' + csv_file, header=1)\n",
    "        curve = curve.drop(columns=['custom_site_id', 'lon', 'lat', 'depth'], errors='ignore')\n",
    "\n",
    "        curve = curve.iloc[coord, :].transpose().reset_index()\n",
    "\n",
    "        \n",
    "        \n",
    "        curve_df['sa (Ts= ' + str(ts_values[i]) + ')'] = curve['index'].apply(lambda x : float(x[4:]))\n",
    "        curve_df['poe (Ts= ' + str(ts_values[i]) + ')'] = curve[coord]\n",
    "\n",
    "        curve_df.to_excel(dir_point_routes[coord] + '/Hazard Curve Mean.xlsx', index=False)\n",
    "\n",
    "    curves_df.append(curve_df)"
   ]
  },
  {
   "cell_type": "code",
   "execution_count": null,
   "metadata": {},
   "outputs": [],
   "source": [
    "for coord in range(n_coord):\n",
    "    fig, ax = plt.subplots()\n",
    "\n",
    "    ax.set_title('CURVA DE PROBABILIDAD DE EXCEDENCIA PARA ACELERACIÓN ESPECTRAL\\n(PUNTO ' + str(coord+1) + ')')\n",
    "\n",
    "    ax.set_xscale('log')\n",
    "    ax.set_xlim(0.01, 10.00)\n",
    "    ax.set_xticks([0.01, 1.00, 10.00])\n",
    "    ax.set_xlabel('Aceleración espectral (g)')\n",
    "\n",
    "    ax.set_yscale('log')\n",
    "    ax.set_ylim(0.0001, 1)\n",
    "    ax.set_yticks([0.0001, 0.001, 0.01, 0.1, 1])\n",
    "    ax.set_ylabel('Probabilidad de excedencia')\n",
    "\n",
    "    ax.get_xaxis().set_major_formatter(matplotlib.ticker.ScalarFormatter())\n",
    "    ax.get_yaxis().set_major_formatter(matplotlib.ticker.ScalarFormatter())\n",
    "\n",
    "    for i in range(len(ts_values)):\n",
    "        ax.plot(curves_df[coord].iloc[:, 2 * i], curves_df[coord].iloc[:, 2 * i + 1], label='Ts= ' + str(ts_values[i]) + ' s')\n",
    "\n",
    "    ax.legend(loc='best')\n",
    "    plt.grid(True)\n",
    "\n",
    "    plt.savefig(dir_point_routes[coord] + '/Hazard Curve Mean.png')"
   ]
  },
  {
   "cell_type": "markdown",
   "metadata": {},
   "source": [
    "# Generación: Uniform Hazard Spectrum"
   ]
  },
  {
   "cell_type": "code",
   "execution_count": null,
   "metadata": {},
   "outputs": [],
   "source": [
    "uhs_tables = []\n",
    "\n",
    "for coord in range(n_coord):\n",
    "    uhs_table = pd.DataFrame()\n",
    "    uhs_table['period'] = pd.Series(periods)\n",
    "\n",
    "    for i, poe in enumerate(poes_header):\n",
    "        uhs_table[poe] = hazard_uhs_mean_df.iloc[coord, i * n_periods : (i+1) * n_periods].reset_index(drop=True)\n",
    "\n",
    "    uhs_table.to_excel(dir_point_routes[coord] + '/Hazard UHS Mean.xlsx', index=False)\n",
    "\n",
    "    uhs_tables.append(uhs_table)\n"
   ]
  },
  {
   "cell_type": "code",
   "execution_count": null,
   "metadata": {},
   "outputs": [],
   "source": [
    "for coord in range(n_coord):\n",
    "    fig, ax = plt.subplots()\n",
    "\n",
    "    ax.set_title('Espectros de Peligro Uniforme (PUNTO ' + str(coord+1) + ')')\n",
    "\n",
    "    ax.set_xscale('log')\n",
    "    ax.set_xlim(0.01, 10.00)\n",
    "    ax.set_xticks([0.01, 0.10, 1.00, 10.00])\n",
    "    ax.set_xlabel('Periodo (s)')\n",
    "\n",
    "    #ax.set_ylim(0.0001, 1)\n",
    "    #ax.set_yticks([0.0001, 0.001, 0.01, 0.1, 1])\n",
    "    ax.set_ylabel('Probabilidad de excedencia')\n",
    "\n",
    "    ax.get_xaxis().set_major_formatter(matplotlib.ticker.ScalarFormatter())\n",
    "    ax.get_yaxis().set_major_formatter(matplotlib.ticker.ScalarFormatter())\n",
    "\n",
    "    for i, poe in enumerate(reversed(poes_header)):\n",
    "        ax.plot(uhs_tables[coord]['period'], uhs_tables[coord][poe], label=tr_dict[poes[i]])\n",
    "\n",
    "    ax.legend(loc='best')\n",
    "    plt.grid(True)\n",
    "\n",
    "    plt.savefig(dir_point_routes[coord] + '/Hazard UHS Mean.png')\n",
    "    plt.show()"
   ]
  }
 ],
 "metadata": {
  "kernelspec": {
   "display_name": ".env",
   "language": "python",
   "name": "python3"
  },
  "language_info": {
   "codemirror_mode": {
    "name": "ipython",
    "version": 3
   },
   "file_extension": ".py",
   "mimetype": "text/x-python",
   "name": "python",
   "nbconvert_exporter": "python",
   "pygments_lexer": "ipython3",
   "version": "3.11.6"
  }
 },
 "nbformat": 4,
 "nbformat_minor": 2
}
