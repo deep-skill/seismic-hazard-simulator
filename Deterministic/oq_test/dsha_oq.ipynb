{
 "cells": [
  {
   "cell_type": "code",
   "execution_count": 5,
   "metadata": {},
   "outputs": [
    {
     "name": "stdout",
     "output_type": "stream",
     "text": [
      "mi resultado es: 45\n"
     ]
    }
   ],
   "source": [
    "a=3\n",
    "b=15\n",
    "resultado=a*b\n",
    "print(\"mi resultado es:\",resultado)"
   ]
  },
  {
   "cell_type": "markdown",
   "metadata": {},
   "source": [
    "# Introducción a openquake\n",
    "\n",
    "## Instalación\n",
    "\n",
    "- descarga [repositorio de openquake](https://github.com/gem/oq-engine)\n",
    "- *vscode*\n",
    "- **openquake**\n",
    "- `a = 1 + 2`"
   ]
  },
  {
   "cell_type": "code",
   "execution_count": null,
   "metadata": {},
   "outputs": [],
   "source": [
    "# Basic python modules\n",
    "import numpy as np\n",
    "import matplotlib.pyplot as plt\n",
    "import os\n",
    "\n",
    "# OQ modules\n",
    "from openquake.hazardlib.gsim import get_available_gsims\n",
    "from openquake.hazardlib.gsim.base import RuptureContext, SitesContext, DistancesContext\n",
    "from openquake.hazardlib.imt import SA\n",
    "from openquake.hazardlib import const"
   ]
  },
  {
   "cell_type": "code",
   "execution_count": 2,
   "metadata": {},
   "outputs": [],
   "source": [
    "gmpe_list = get_available_gsims()"
   ]
  },
  {
   "cell_type": "code",
   "execution_count": 3,
   "metadata": {},
   "outputs": [],
   "source": [
    "rctx = RuptureContext()\n",
    "rctx.mag = np.array([8.8])\n",
    "sctx = SitesContext()\n",
    "sctx.vs30 = np.array([700.])\n",
    "sctx.backarc = False\n",
    "sctx.sids = np.array([0])\n",
    "dctx = DistancesContext()\n",
    "dctx.rrup = np.array([150])"
   ]
  },
  {
   "cell_type": "code",
   "execution_count": 4,
   "metadata": {},
   "outputs": [],
   "source": [
    "periods = np.logspace(-2, 1, 30)\n",
    "\n",
    "imts = [SA(period) for period in periods]\n",
    "\n",
    "stddev_types = [const.StdDev.TOTAL]"
   ]
  },
  {
   "cell_type": "code",
   "execution_count": 5,
   "metadata": {},
   "outputs": [],
   "source": [
    "means = np.zeros(len(imts))\n",
    "means_plus_1sd = np.zeros(len(imts))\n",
    "means_minus_1sd = np.zeros(len(imts))\n",
    "stddevs = np.zeros(len(imts))\n",
    "\n",
    "gmpes = [gmpe_list[\"MontalvaEtAl2017SInter\"](),\n",
    "         gmpe_list[\"ParkerEtAl2020SInter\"]()]"
   ]
  },
  {
   "cell_type": "code",
   "execution_count": 6,
   "metadata": {},
   "outputs": [],
   "source": [
    "def calculate_ground_motions(gmpes, imts, sctx, rctx, dctx, stddev_types):\n",
    "    \"\"\"\n",
    "    Calculates the expected ground motion and uncertainty, organised by GMPE\n",
    "    and intensity measure type (i.e. PGA, SA etc.), for a given rupture-site configuration    \n",
    "    \"\"\"\n",
    "    results = {}\n",
    "    nper = len(imts)\n",
    "    for gmpe in gmpes:\n",
    "        print(\"Running GMPE %s\" % str(gmpe))\n",
    "        results[str(gmpe)] = {\"mean\": np.zeros(nper),\n",
    "                              \"stddevs\": np.zeros(nper),\n",
    "                              \"mean_plus_1sd\": np.zeros(nper),\n",
    "                              \"mean_minus_1sd\": np.zeros(nper)}\n",
    "        for i, imt in enumerate(imts):\n",
    "            try:\n",
    "                mean, [stddev] = gmpe.get_mean_and_stddevs(\n",
    "                    sctx, rctx, dctx, imt, stddev_types)\n",
    "                results[gmpe][\"mean\"][i] = np.exp(mean)\n",
    "                results[gmpe][\"stddevs\"][i] = stddev\n",
    "                results[gmpe][\"mean_plus_1sd\"][i] = np.exp(mean + stddev)\n",
    "                results[gmpe][\"mean_minus_1sd\"][i] = np.exp(mean - stddev)\n",
    "            except KeyError:\n",
    "                results[gmpe][\"mean\"][i] = np.nan\n",
    "                results[gmpe][\"stddevs\"][i] = np.nan\n",
    "                results[gmpe][\"mean_plus_1sd\"][i] = np.nan\n",
    "                results[gmpe][\"mean_minus_1sd\"][i] = np.nan\n",
    "    return results\n"
   ]
  },
  {
   "cell_type": "code",
   "execution_count": 7,
   "metadata": {},
   "outputs": [
    {
     "name": "stdout",
     "output_type": "stream",
     "text": [
      "Running GMPE [MontalvaEtAl2017SInter]\n",
      "Running GMPE [ParkerEtAl2020SInter]\n"
     ]
    }
   ],
   "source": [
    "results = calculate_ground_motions(gmpes, imts, sctx, rctx, dctx, stddev_types)"
   ]
  },
  {
   "cell_type": "code",
   "execution_count": 8,
   "metadata": {},
   "outputs": [
    {
     "name": "stdout",
     "output_type": "stream",
     "text": [
      "[MontalvaEtAl2017SInter]\n",
      "{'mean': array([0.086734  , 0.08738247, 0.08803579, 0.08917644, 0.09522407,\n",
      "       0.10131618, 0.1074393 , 0.11543564, 0.13022949, 0.14806517,\n",
      "       0.17008116, 0.19548271, 0.22070644, 0.23282973, 0.21265885,\n",
      "       0.1879996 , 0.15986412, 0.12855319, 0.10473855, 0.08659512,\n",
      "       0.06558282, 0.04708044, 0.03700144, 0.0299099 , 0.02060181,\n",
      "       0.01594505, 0.01215415, 0.00967288, 0.0089769 , 0.00838651]), 'stddevs': array([0.83844918, 0.84110491, 0.84376063, 0.84706472, 0.85692103,\n",
      "       0.86677733, 0.87663364, 0.88760494, 0.90204425, 0.90901477,\n",
      "       0.9079249 , 0.90338391, 0.88436829, 0.86310782, 0.84420147,\n",
      "       0.83276501, 0.81203524, 0.80134624, 0.81017091, 0.80974758,\n",
      "       0.8023014 , 0.79204019, 0.76837164, 0.75729074, 0.73362281,\n",
      "       0.69128478, 0.67692496, 0.64379338, 0.62427024, 0.6024269 ]), 'mean_plus_1sd': array([0.20059645, 0.20263364, 0.20469152, 0.20802985, 0.22433799,\n",
      "       0.24105459, 0.25815488, 0.28042829, 0.32096833, 0.36747942,\n",
      "       0.42166056, 0.48243964, 0.53443056, 0.5519267 , 0.49466991,\n",
      "       0.43233678, 0.36009197, 0.2864858 , 0.23548286, 0.19460872,\n",
      "       0.14629354, 0.10394874, 0.07978445, 0.06378259, 0.04290558,\n",
      "       0.03183076, 0.02391716, 0.01841416, 0.01675883, 0.01531836]), 'mean_minus_1sd': array([0.03750209, 0.03768227, 0.03786332, 0.03822738, 0.04041947,\n",
      "       0.04258358, 0.04471426, 0.04751798, 0.05283923, 0.05965857,\n",
      "       0.068604  , 0.07920885, 0.09114624, 0.09821899, 0.09142215,\n",
      "       0.08175074, 0.07097225, 0.05768496, 0.04658582, 0.03853226,\n",
      "       0.02940052, 0.02132367, 0.01716007, 0.01402581, 0.00989229,\n",
      "       0.00798739, 0.00617646, 0.00508113, 0.0048085 , 0.00459146])}\n",
      "[ParkerEtAl2020SInter]\n",
      "{'mean': array([0.07264445, 0.07304881, 0.07345541, 0.07400799, 0.07630296,\n",
      "       0.08047772, 0.08582753, 0.0935809 , 0.10201564, 0.1111349 ,\n",
      "       0.12048564, 0.12951656, 0.1363713 , 0.14111585, 0.14343541,\n",
      "       0.13758419, 0.12569977, 0.11072881, 0.09701056, 0.07966627,\n",
      "       0.06377872, 0.05064859, 0.03833708, 0.02763108, 0.01913548,\n",
      "       0.01371785, 0.01016284, 0.00717011, 0.00499796, 0.0033966 ]), 'stddevs': array([0.78966828, 0.79178138, 0.79389421, 0.7965239 , 0.80539915,\n",
      "       0.82230715, 0.84459537, 0.87183127, 0.89119631, 0.89536688,\n",
      "       0.88145391, 0.85627461, 0.83621827, 0.82890101, 0.82653744,\n",
      "       0.82235798, 0.81995348, 0.82270224, 0.82981225, 0.82281951,\n",
      "       0.81404207, 0.80533547, 0.7985504 , 0.79080392, 0.7793552 ,\n",
      "       0.75944639, 0.73698018, 0.71870915, 0.70150397, 0.68779648]), 'mean_plus_1sd': array([0.16001144, 0.16124246, 0.1624829 , 0.16413627, 0.1707347 ,\n",
      "       0.18314672, 0.19972375, 0.22377869, 0.24871869, 0.27208422,\n",
      "       0.29090143, 0.30493035, 0.31469364, 0.32326817, 0.32780611,\n",
      "       0.31312236, 0.28538804, 0.25209004, 0.22243438, 0.18139298,\n",
      "       0.14394938, 0.11332354, 0.08519715, 0.06093118, 0.04171662,\n",
      "       0.02931631, 0.02123643, 0.0147115 , 0.01007979, 0.00675694]), 'mean_minus_1sd': array([0.03298025, 0.03309382, 0.03320779, 0.03336973, 0.03410052,\n",
      "       0.03536325, 0.03688277, 0.03913413, 0.04184322, 0.04539391,\n",
      "       0.04990278, 0.05501106, 0.05909599, 0.06160113, 0.06276185,\n",
      "       0.06045372, 0.05536474, 0.04863687, 0.04230933, 0.03498876,\n",
      "       0.02825803, 0.02263678, 0.01725095, 0.01253014, 0.00877748,\n",
      "       0.00641893, 0.0048635 , 0.00349457, 0.00247818, 0.00170741])}\n"
     ]
    }
   ],
   "source": [
    "for key in results.keys():\n",
    "    print(str(key))\n",
    "    print(results[key])"
   ]
  }
 ],
 "metadata": {
  "kernelspec": {
   "display_name": "venv",
   "language": "python",
   "name": "python3"
  },
  "language_info": {
   "codemirror_mode": {
    "name": "ipython",
    "version": 3
   },
   "file_extension": ".py",
   "mimetype": "text/x-python",
   "name": "python",
   "nbconvert_exporter": "python",
   "pygments_lexer": "ipython3",
   "version": "3.10.11"
  },
  "orig_nbformat": 4,
  "vscode": {
   "interpreter": {
    "hash": "47be4c660ee4d11515a08e8876b4a785c971a96e7e9549d5f6eafd63a29ef142"
   }
  }
 },
 "nbformat": 4,
 "nbformat_minor": 2
}
