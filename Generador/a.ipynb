{
 "cells": [
  {
   "cell_type": "code",
   "execution_count": 1,
   "metadata": {},
   "outputs": [
    {
     "name": "stdout",
     "output_type": "stream",
     "text": [
      "Waiting for jobs 37\n",
      "^C\n",
      "Traceback (most recent call last):\n",
      "  File \"/Users/emanuelsotoortega/Documents/DeepSkill/seismic-hazard-simulator/.env/bin/oq\", line 8, in <module>\n",
      "    sys.exit(oq())\n",
      "             ^^^^\n",
      "  File \"/Users/emanuelsotoortega/Documents/DeepSkill/seismic-hazard-simulator/.env/lib/python3.11/site-packages/openquake/commands/__main__.py\", line 48, in oq\n",
      "    sap.run(commands, prog='oq')\n",
      "  File \"/Users/emanuelsotoortega/Documents/DeepSkill/seismic-hazard-simulator/.env/lib/python3.11/site-packages/openquake/baselib/sap.py\", line 212, in run\n",
      "    return _run(parser(funcdict, **parserkw), argv)\n",
      "           ^^^^^^^^^^^^^^^^^^^^^^^^^^^^^^^^^^^^^^^^\n",
      "  File \"/Users/emanuelsotoortega/Documents/DeepSkill/seismic-hazard-simulator/.env/lib/python3.11/site-packages/openquake/baselib/sap.py\", line 203, in _run\n",
      "    return func(**dic)\n",
      "           ^^^^^^^^^^^\n",
      "  File \"/Users/emanuelsotoortega/Documents/DeepSkill/seismic-hazard-simulator/.env/lib/python3.11/site-packages/openquake/commands/engine.py\", line 176, in main\n",
      "    run_jobs(jobs)\n",
      "  File \"/Users/emanuelsotoortega/Documents/DeepSkill/seismic-hazard-simulator/.env/lib/python3.11/site-packages/openquake/engine/engine.py\", line 386, in run_jobs\n",
      "    poll_queue(jobctxs[0].calc_id, poll_time=15)\n",
      "  File \"/Users/emanuelsotoortega/Documents/DeepSkill/seismic-hazard-simulator/.env/lib/python3.11/site-packages/openquake/engine/engine.py\", line 234, in poll_queue\n",
      "    time.sleep(poll_time)\n",
      "KeyboardInterrupt\n"
     ]
    }
   ],
   "source": [
    "import matplotlib\n",
    "import matplotlib.pyplot as plt\n",
    "import pandas as pd\n",
    "import os\n",
    "import shutil\n",
    "import subprocess\n",
    "import re\n",
    "\n",
    "\n",
    "\n",
    "# ========= Variables de entrada =============\n",
    "\n",
    "# 1. Aceleraciones espectrales para las gráficas\n",
    "\n",
    "ts_list = ['PGA', 'SA(0.2)', 'SA(0.5)', 'SA(1.0)', 'SA(2.0)']\n",
    "ts_values = [0.01, 0.20, 0.50, 1.00, 2.00]\n",
    "\n",
    "# 2. Gráficas de las Curvas de Peligro\n",
    "\n",
    "hazard_curve_x_lim = (0.01, 10.00)\n",
    "hazard_curve_x_ticks = [0.01, 1.00, 10.00]\n",
    "\n",
    "hazard_curve_y_lim = (0.0001, 1)\n",
    "hazard_curve_y_ticks = [0.0001, 0.001, 0.01, 0.1, 1]\n",
    "\n",
    "# 3. Gráficas de Espectro de Peligro Uniforme\n",
    "\n",
    "uhs_x_lim = (0.01, 10.00)\n",
    "uhs_x_ticks = [0.01, 0.10, 1.00, 10.00]\n",
    "\n",
    "# ===============================================\n",
    "\n",
    "\n",
    "#current_file_path = os.path.abspath(__file__)\n",
    "#current_directory = os.path.dirname(current_file_path)\n",
    "\n",
    "current_directory = os.getcwd()\n",
    "\n",
    "dir_route = current_directory + '/Input'\n",
    "job_route = dir_route + '/job.ini'\n",
    "!oq engine --run {job_route}\n"
   ]
  }
 ],
 "metadata": {
  "kernelspec": {
   "display_name": ".env",
   "language": "python",
   "name": "python3"
  },
  "language_info": {
   "codemirror_mode": {
    "name": "ipython",
    "version": 3
   },
   "file_extension": ".py",
   "mimetype": "text/x-python",
   "name": "python",
   "nbconvert_exporter": "python",
   "pygments_lexer": "ipython3",
   "version": "3.11.7"
  }
 },
 "nbformat": 4,
 "nbformat_minor": 2
}
